{
 "cells": [
  {
   "cell_type": "code",
   "execution_count": 1,
   "id": "28577db9",
   "metadata": {},
   "outputs": [],
   "source": [
    "from pyspark.ml.feature import VectorAssembler\n",
    "from pyspark.ml.classification import LogisticRegression\n",
    "from pyspark.ml import Pipeline"
   ]
  },
  {
   "cell_type": "code",
   "execution_count": 2,
   "id": "8a1ed0dc",
   "metadata": {},
   "outputs": [],
   "source": [
    "from pyspark.sql import SparkSession\n",
    "\n",
    "spark = SparkSession.builder.appName(\"Datacamp Pyspark Tutorial\")\\\n",
    ".config(\"spark.memory.offHeap.enabled\",\"true\")\\\n",
    ".config(\"spark.memory.offHeap.size\",\"10g\")\\\n",
    ".getOrCreate()"
   ]
  },
  {
   "cell_type": "code",
   "execution_count": 3,
   "id": "e351f59e",
   "metadata": {},
   "outputs": [],
   "source": [
    "# Sample data\n",
    "data = [(0, 1.0, 0.5), (1, 2.0, 1.5), (0, 0.5, 0.3), (1, 2.5, 1.7)]\n",
    "df = spark.createDataFrame(data, [\"label\", \"feature1\", \"feature2\"])"
   ]
  },
  {
   "cell_type": "markdown",
   "id": "253d22e2",
   "metadata": {},
   "source": [
    "VectorAssembler is used to combine multiple feature columns into a single vector column.\n",
    "\n",
    "LogisticRegression is the machine learning model we’re using to predict the label.\n",
    "\n",
    "The Pipeline object chains together the steps for feature assembly and model training"
   ]
  },
  {
   "cell_type": "code",
   "execution_count": 4,
   "id": "c78f187b",
   "metadata": {},
   "outputs": [],
   "source": [
    "# Assemble features into a vector\n",
    "assembler = VectorAssembler(inputCols=[\"feature1\", \"feature2\"], outputCol=\"features\")\n",
    "\n",
    "# Define a Logistic Regression model\n",
    "lr = LogisticRegression(featuresCol=\"features\", labelCol=\"label\")\n",
    "\n",
    "# Create a pipeline with the assembler and the logistic regression model\n",
    "pipeline = Pipeline(stages=[assembler, lr])"
   ]
  },
  {
   "cell_type": "code",
   "execution_count": 5,
   "id": "18d3b3b9",
   "metadata": {},
   "outputs": [
    {
     "name": "stdout",
     "output_type": "stream",
     "text": [
      "+-----+---------+----------+\n",
      "|label| features|prediction|\n",
      "+-----+---------+----------+\n",
      "|    0|[1.0,0.5]|       0.0|\n",
      "|    1|[2.0,1.5]|       1.0|\n",
      "|    0|[0.5,0.3]|       0.0|\n",
      "|    1|[2.5,1.7]|       1.0|\n",
      "+-----+---------+----------+\n",
      "\n"
     ]
    }
   ],
   "source": [
    "# Train the model\n",
    "model = pipeline.fit(df)\n",
    "\n",
    "# Make predictions\n",
    "predictions = model.transform(df)\n",
    "\n",
    "# Show the predictions\n",
    "predictions.select(\"label\", \"features\", \"prediction\").show()"
   ]
  }
 ],
 "metadata": {
  "kernelspec": {
   "display_name": "Python 3",
   "language": "python",
   "name": "python3"
  },
  "language_info": {
   "codemirror_mode": {
    "name": "ipython",
    "version": 3
   },
   "file_extension": ".py",
   "mimetype": "text/x-python",
   "name": "python",
   "nbconvert_exporter": "python",
   "pygments_lexer": "ipython3",
   "version": "3.10.8"
  }
 },
 "nbformat": 4,
 "nbformat_minor": 5
}
